{
  "nbformat": 4,
  "nbformat_minor": 0,
  "metadata": {
    "colab": {
      "provenance": [],
      "authorship_tag": "ABX9TyPx/ZHSc9UeDELU2YhAElI5",
      "include_colab_link": true
    },
    "kernelspec": {
      "name": "python3",
      "display_name": "Python 3"
    },
    "language_info": {
      "name": "python"
    }
  },
  "cells": [
    {
      "cell_type": "markdown",
      "metadata": {
        "id": "view-in-github",
        "colab_type": "text"
      },
      "source": [
        "<a href=\"https://colab.research.google.com/github/sumitpatel0718/ShopSense/blob/main/major__project_matching_model.ipynb\" target=\"_parent\"><img src=\"https://colab.research.google.com/assets/colab-badge.svg\" alt=\"Open In Colab\"/></a>"
      ]
    },
    {
      "cell_type": "code",
      "execution_count": 1,
      "metadata": {
        "colab": {
          "base_uri": "https://localhost:8080/"
        },
        "id": "MAukFrigaEg-",
        "outputId": "705495fc-8b5b-4ae9-e40d-bbe047b005f2"
      },
      "outputs": [
        {
          "output_type": "stream",
          "name": "stdout",
          "text": [
            "Top 5 matching donors for the recipient (first row):\n",
            "     donor_age donor_gender  donor_BMI  donor_AST  donor_ALT  donor_bilirubin  \\\n",
            "923         22       Female       24.9       27.1       50.2             0.15   \n",
            "9           40       Female       18.8       21.7       44.5             0.26   \n",
            "886         18       Female       22.6       32.3       21.3             1.39   \n",
            "52          31       Female       24.4       69.0       56.5             0.27   \n",
            "349         20       Female       22.9       21.9       71.7             0.34   \n",
            "\n",
            "     donor_ALP  donor_GGT  donor_steatosis  donor_risk_index  \\\n",
            "923       84.4       10.9             37.2              1.18   \n",
            "9         42.3       20.1             45.6              1.96   \n",
            "886      100.2       12.6              4.6              1.16   \n",
            "52        31.1       17.0             17.8              1.14   \n",
            "349       51.9       21.5             16.8              3.71   \n",
            "\n",
            "     donor_liver_volume  graft_to_recipient_size_ratio  matching_score  \n",
            "923              1320.7                           1.04        3.812661  \n",
            "9                1843.5                           1.11        4.279304  \n",
            "886              1639.6                           1.25        4.281893  \n",
            "52               1424.2                           1.22        4.295607  \n",
            "349              1567.8                           1.01        4.335839  \n"
          ]
        }
      ],
      "source": [
        "import pandas as pd\n",
        "\n",
        "# Load the dataset from the Excel file\n",
        "df = pd.read_excel(\"liver_matching_dataset.xlsx\")\n",
        "\n",
        "# Extract recipient details from the first row (assuming it is the recipient)\n",
        "recipient = df.iloc[0]\n",
        "\n",
        "# Use all remaining rows as donor candidates\n",
        "donor_candidates = df.iloc[1:].copy()  # copy to avoid SettingWithCopyWarning\n",
        "\n",
        "def compute_matching_score(recipient, donor):\n",
        "    \"\"\"\n",
        "    Compute a matching score between a recipient and a donor candidate.\n",
        "    Lower scores indicate better compatibility.\n",
        "    \"\"\"\n",
        "    # 1. Donor BMI penalty: penalize if BMI exceeds an ideal threshold (e.g., 25)\n",
        "    bmi_penalty = max(0, donor['donor_BMI'] - 25)\n",
        "\n",
        "    # 2. Liver function penalty: normalized sum of liver enzyme values and bilirubin.\n",
        "    #    Here we assume that higher values indicate poorer liver function.\n",
        "    liver_function_score = (\n",
        "        donor['donor_AST'] / 100 +\n",
        "        donor['donor_ALT'] / 100 +\n",
        "        donor['donor_bilirubin'] / 2 +\n",
        "        donor['donor_ALP'] / 150 +\n",
        "        donor['donor_GGT'] / 80\n",
        "    )\n",
        "\n",
        "    # 3. Steatosis penalty: higher fatty infiltration is worse.\n",
        "    steatosis_penalty = donor['donor_steatosis'] / 50  # normalize (max assumed at 50%)\n",
        "\n",
        "    # 4. Donor risk index penalty: normalize by its maximum expected value (assumed 5)\n",
        "    risk_penalty = donor['donor_risk_index'] / 5\n",
        "\n",
        "    # 5. Donor age penalty: younger donors are generally preferred (normalize to max 70 years)\n",
        "    age_penalty = donor['donor_age'] / 70\n",
        "\n",
        "    # 6. Graft-to-recipient size ratio penalty: deviation from ideal ratio of 1.0\n",
        "    graft_size_penalty = abs(donor['graft_to_recipient_size_ratio'] - 1.0)\n",
        "\n",
        "    # Weights for each component (tweak these based on clinical importance)\n",
        "    w1, w2, w3, w4, w5, w6 = 2.0, 1.5, 1.0, 1.5, 1.0, 2.0\n",
        "\n",
        "    score = (\n",
        "        w1 * bmi_penalty +\n",
        "        w2 * liver_function_score +\n",
        "        w3 * steatosis_penalty +\n",
        "        w4 * risk_penalty +\n",
        "        w5 * age_penalty +\n",
        "        w6 * graft_size_penalty\n",
        "    )\n",
        "\n",
        "    return score\n",
        "\n",
        "# Compute matching score for each donor candidate relative to the recipient\n",
        "donor_candidates['matching_score'] = donor_candidates.apply(\n",
        "    lambda row: compute_matching_score(recipient, row), axis=1\n",
        ")\n",
        "\n",
        "# Sort the donor candidates by matching score (lowest is best)\n",
        "matching_donors = donor_candidates.sort_values('matching_score')\n",
        "\n",
        "# Display the top 5 matching donors with key donor information and matching score\n",
        "top_matches = matching_donors[[\n",
        "    'donor_age', 'donor_gender', 'donor_BMI', 'donor_AST', 'donor_ALT',\n",
        "    'donor_bilirubin', 'donor_ALP', 'donor_GGT', 'donor_steatosis',\n",
        "    'donor_risk_index', 'donor_liver_volume', 'graft_to_recipient_size_ratio',\n",
        "    'matching_score'\n",
        "]].head()\n",
        "\n",
        "print(\"Top 5 matching donors for the recipient (first row):\")\n",
        "print(top_matches)\n"
      ]
    }
  ]
}